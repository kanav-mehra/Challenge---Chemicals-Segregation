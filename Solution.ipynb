{
 "cells": [
  {
   "cell_type": "code",
   "execution_count": 191,
   "metadata": {},
   "outputs": [],
   "source": [
    "import numpy as np\n",
    "import pandas as pd\n",
    "import matplotlib.pyplot as plt"
   ]
  },
  {
   "cell_type": "markdown",
   "metadata": {},
   "source": [
    "### Data Preparation"
   ]
  },
  {
   "cell_type": "code",
   "execution_count": 192,
   "metadata": {},
   "outputs": [],
   "source": [
    "dfx = pd.read_csv('Logistic_X_Train.csv')\n",
    "dfy = pd.read_csv('Logistic_Y_Train.csv')\n",
    "dftest = pd.read_csv('Logistic_X_Test.csv')"
   ]
  },
  {
   "cell_type": "code",
   "execution_count": 193,
   "metadata": {},
   "outputs": [],
   "source": [
    "## Load data into numpy arrays\n",
    "\n",
    "X_train = dfx.values\n",
    "Y_train = dfy.values\n",
    "X_test = dftest.values"
   ]
  },
  {
   "cell_type": "code",
   "execution_count": 194,
   "metadata": {},
   "outputs": [],
   "source": [
    "## Normalizing the data\n",
    "\n",
    "u_train = np.mean(X_train, axis=0)\n",
    "std_train = np.std(X_train, axis=0)\n",
    "u_test = np.mean(X_test, axis=0)\n",
    "std_test = np.std(X_test, axis=0)\n",
    "\n",
    "X_train = (X_train-u_train)/std_train\n",
    "X_test = (X_test-u_test)/std_test"
   ]
  },
  {
   "cell_type": "markdown",
   "metadata": {},
   "source": [
    "### Logistic Regression Functions"
   ]
  },
  {
   "cell_type": "code",
   "execution_count": 272,
   "metadata": {},
   "outputs": [],
   "source": [
    "def hypothesis(x, w, b):\n",
    "    # This function will take input vector x, weight vector w, bias b and return the hypothesis or predicted value\n",
    "    \n",
    "    hx = np.dot(x,w)+b\n",
    "    return sigmoid(hx)\n",
    "\n",
    "def sigmoid(z):\n",
    "    sig = 1.0/(1.0 + np.exp(-1.0*z))\n",
    "    return sig\n",
    "\n",
    "def error(Y_train, X_train, w, b):\n",
    "    \n",
    "    err = 0.0\n",
    "    m = X_train.shape[0]\n",
    "    \n",
    "    for i in range(m):\n",
    "        \n",
    "        x = X_train[i]\n",
    "        y = Y_train[i]\n",
    "        hx = hypothesis(x, w, b)\n",
    "        err += y*np.log2(hx) + (1-y)*np.log2(1-hx)\n",
    "    \n",
    "    err = -1.0*err\n",
    "        \n",
    "    return err/m\n",
    "\n",
    "def gradient(Y_train, X_train, w, b):\n",
    "    \n",
    "    m = X_train.shape[0]\n",
    "    grad_w = np.zeros(w.shape)\n",
    "    grad_b = 0.0\n",
    "    \n",
    "    for i in range(m):\n",
    "        hx = hypothesis(X_train[i], w, b)\n",
    "        grad_w += (Y_train[i]-hx)*X_train[i]\n",
    "        grad_b += Y_train[i]-hx\n",
    "        \n",
    "    grad_w /= m\n",
    "    grad_b /= m\n",
    "    \n",
    "    return [grad_w, grad_b]\n",
    "\n",
    "def gradient_ascent(Y_train, X_train, w, b, max_iter=1000, learning_rate=0.1):\n",
    "    \n",
    "    error_list = []\n",
    "    \n",
    "    for i in range(max_iter):\n",
    "        \n",
    "        err = error(Y_train, X_train, w, b)\n",
    "        error_list.append(err)\n",
    "        [grad_w, grad_b] = gradient(Y_train, X_train, w, b)\n",
    "        w = w + learning_rate*grad_w\n",
    "        b = b + learning_rate*grad_b\n",
    "        \n",
    "    return error_list, w, b\n",
    "\n",
    "def predictions(X_test, w, b):\n",
    "    \n",
    "    confidence = hypothesis(X_test, w, b)\n",
    "    Y_pred = []\n",
    "    \n",
    "    for val in confidence:\n",
    "        if val<0.5:\n",
    "            Y_pred.append(0)\n",
    "        else:\n",
    "            Y_pred.append(1)\n",
    "            \n",
    "    return Y_pred"
   ]
  },
  {
   "cell_type": "code",
   "execution_count": 274,
   "metadata": {},
   "outputs": [],
   "source": [
    "## Initialize the Weight vectors and call the function\n",
    "\n",
    "W = 2*np.random.random((X_train.shape[1],))\n",
    "B = 5*np.random.random()\n",
    "\n",
    "error_list, w, b = gradient_ascent(Y_train, X_train, W, B)"
   ]
  },
  {
   "cell_type": "code",
   "execution_count": 277,
   "metadata": {},
   "outputs": [
    {
     "data": {
      "image/png": "[encoded data removed]",
      "text/plain": [
       "<Figure size 432x288 with 1 Axes>"
      ]
     },
     "metadata": {
      "needs_background": "light"
     },
     "output_type": "display_data"
    }
   ],
   "source": [
    "## Plot the loss function -> Error\n",
    "## This indicates that the loss has significantly decreased over time\n",
    "\n",
    "plt.plot(error_list)\n",
    "plt.xlabel('No.of Iterations')\n",
    "plt.ylabel('Loss = Negative of Log Likelihood')\n",
    "plt.show()"
   ]
  },
  {
   "cell_type": "code",
   "execution_count": 284,
   "metadata": {},
   "outputs": [],
   "source": [
    "pred = predictions(X_test, w, b)\n",
    "result = pd.DataFrame(pred, columns=['label'])"
   ]
  },
  {
   "cell_type": "code",
   "execution_count": 289,
   "metadata": {},
   "outputs": [],
   "source": [
    "result.to_csv('Submission.csv', index=None)"
   ]
  },
  {
   "cell_type": "code",
   "execution_count": null,
   "metadata": {},
   "outputs": [],
   "source": []
  }
 ],
 "metadata": {
  "kernelspec": {
   "display_name": "Python 3",
   "language": "python",
   "name": "python3"
  },
  "language_info": {
   "codemirror_mode": {
    "name": "ipython",
    "version": 3
   },
   "file_extension": ".py",
   "mimetype": "text/x-python",
   "name": "python",
   "nbconvert_exporter": "python",
   "pygments_lexer": "ipython3",
   "version": "3.8.2"
  }
 },
 "nbformat": 4,
 "nbformat_minor": 4
}
